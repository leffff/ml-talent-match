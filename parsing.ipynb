{
 "cells": [
  {
   "cell_type": "code",
   "execution_count": 15,
   "id": "e81f0a4b-3629-4c6d-b1e3-6385249b5526",
   "metadata": {},
   "outputs": [],
   "source": [
    "import os\n",
    "\n",
    "from tqdm.auto import tqdm\n",
    "import textract\n",
    "\n",
    "\n",
    "class ResumeParser:\n",
    "    def __init__(self):\n",
    "        pass\n",
    "        \n",
    "    def read_pdf(self, filename: str) -> str:\n",
    "        text = textract.process(filename).decode(\"utf-8\")\n",
    "\n",
    "        return text\n",
    "\n",
    "    def read_docx(self, filename: str) -> str:\n",
    "        text = textract.process(filename).decode(\"utf-8\")\n",
    "\n",
    "        return text\n",
    "\n",
    "    def read_doc(self, filename: str) -> str:\n",
    "        text = textract.process(filename).decode(\"utf-8\")\n",
    "\n",
    "        return text\n",
    "\n",
    "    def parse(self, filename: str) -> str:\n",
    "        if filename.endswith('.pdf'):\n",
    "            return self.read_pdf(filename)\n",
    "            \n",
    "        elif filename.endswith('.docx'):\n",
    "            return self.read_docx(filename)\n",
    "\n",
    "        elif filename.endswith('.doc'):\n",
    "            return self.read_doc(filename)\n",
    "\n",
    "        elif filename.endswith('.txt'):\n",
    "            raise Error()\n",
    "\n",
    "        elif filename.endswith('.tex'):\n",
    "            raise Error()"
   ]
  },
  {
   "cell_type": "code",
   "execution_count": 18,
   "id": "c2fe696b-7b0d-4ee9-a150-17ea06b825b5",
   "metadata": {},
   "outputs": [
    {
     "name": "stderr",
     "output_type": "stream",
     "text": [
      "100%|██████████████████████████████████████████████████████████████████████████████████████████████████████████████████████████████████████████████████████████████████████████████████████████████████████████████████████████████████████████████████████████████████| 214/214 [00:02<00:00, 81.77it/s]\n"
     ]
    }
   ],
   "source": [
    "DATA = \"Резюме для 1 кейса Хакатона\"\n",
    "\n",
    "parser = ResumeParser()\n",
    "parsed_texts = []\n",
    "files = os.listdir(DATA)\n",
    "\n",
    "for file in tqdm(files):\n",
    "    # if file.endswith(\".doc\"):\n",
    "    # print(file)\n",
    "    parsed_texts.append(parser.parse(f\"{DATA}/{file}\"))\n",
    "    # extensions.append(file.split(\".\")[-1])"
   ]
  },
  {
   "cell_type": "code",
   "execution_count": 30,
   "id": "0b3d8875-bd6d-4d64-a64a-e4afd08cd69e",
   "metadata": {},
   "outputs": [],
   "source": [
    "for i in range(len(parsed_texts)):\n",
    "    with open(f\"parsed_txts/{i}.txt\", \"w\") as fout:\n",
    "        print(\"\\n\".join([el for el in parsed_texts[i].split(\"\\n\") if el]), file=fout)"
   ]
  }
 ],
 "metadata": {
  "kernelspec": {
   "display_name": "Python 3 (ipykernel)",
   "language": "python",
   "name": "python3"
  },
  "language_info": {
   "codemirror_mode": {
    "name": "ipython",
    "version": 3
   },
   "file_extension": ".py",
   "mimetype": "text/x-python",
   "name": "python",
   "nbconvert_exporter": "python",
   "pygments_lexer": "ipython3",
   "version": "3.10.12"
  }
 },
 "nbformat": 4,
 "nbformat_minor": 5
}
